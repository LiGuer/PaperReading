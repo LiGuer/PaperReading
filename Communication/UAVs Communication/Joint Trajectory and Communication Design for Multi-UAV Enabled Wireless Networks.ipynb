{
 "cells": [
  {
   "cell_type": "markdown",
   "id": "78a70d9d",
   "metadata": {},
   "source": [
    "# Joint Trajectory and Communication Design for Multi-UAV Enabled Wireless Networks"
   ]
  },
  {
   "cell_type": "code",
   "execution_count": 1,
   "id": "cd00861d",
   "metadata": {},
   "outputs": [],
   "source": [
    "import numpy as np\n",
    "import matplotlib.pyplot as plt\n",
    "from mpl_toolkits.mplot3d import Axes3D\n",
    "import warnings\n",
    "warnings.filterwarnings(\"ignore\")"
   ]
  },
  {
   "cell_type": "markdown",
   "id": "36848b1f",
   "metadata": {},
   "source": [
    "## Optimization Problem"
   ]
  },
  {
   "cell_type": "markdown",
   "id": "67a813fa",
   "metadata": {},
   "source": [
    "\\begin{align*}\n",
    "\\max_{\\eta, \\boldsymbol A, \\boldsymbol Q, \\boldsymbol P} \\quad& \\eta \\tag{最大化最小平均速率}\\\\\n",
    "s.t. \\quad& \\frac{1}{T} \\sum_{t=1}^T \\sum_{m=1}^M a_{n,m}[t] \\log_2(1+\\gamma_{n,m}[t]) \\ge \\eta \\tag{最小平均速率}\\\\\n",
    "& \\sum_{n=1}^N \\alpha_{n,m}[t] \\le 1  \\quad \\forall m,t  \\tag{无人机最多连 1 用户}\\\\\n",
    "& \\sum_{m=1}^M \\alpha_{n,m}[t] \\le 1  \\quad \\forall n,t  \\tag{用户最多连 1 无人机}\\\\\n",
    "& \\alpha_{n,m}[t] \\in \\{0,1\\} \\tag{用户是否连接}\\\\\n",
    "& p_m[t] \\in [0, P_\\max]  \\tag{功率约束} \\\\\n",
    "& q_m[1] = q_m[T]  \\tag{轨迹首尾相接}\\\\\n",
    "& \\| q_m[t+1] - q_m[t]\\|^2 \\le s_{\\max}^2 \\tag{速度约束}\\\\\n",
    "& \\|q_m[t] - q_j[t] \\|^2 \\ge d_{\\min}^2 \\tag{碰撞避免}\n",
    "\\end{align*}"
   ]
  },
  {
   "cell_type": "markdown",
   "id": "830c0169",
   "metadata": {},
   "source": [
    "其中,\n",
    "* $N$ : Number of Users\n",
    "* $M$ : Number of UAVs\n",
    "* $T$ : Total Duration\n",
    "---\n",
    "* $\\eta$ : Minimum Average Communication Rate \n",
    "* $\\boldsymbol A_{N×M×T}$ : User Assignment \n",
    "* $\\boldsymbol Q_{M×2×T}$ : Trajectory of UAV \n",
    "* $\\boldsymbol P_{N×M×T}$ : Transmit Power "
   ]
  },
  {
   "cell_type": "code",
   "execution_count": null,
   "id": "75a8159e",
   "metadata": {},
   "outputs": [],
   "source": []
  },
  {
   "cell_type": "markdown",
   "id": "763a87bb",
   "metadata": {},
   "source": [
    "Parameters"
   ]
  },
  {
   "cell_type": "code",
   "execution_count": 4,
   "id": "2792c44b",
   "metadata": {},
   "outputs": [],
   "source": [
    "numUse = 6\n",
    "numUav = 3\n",
    "times = 100\n",
    "\n",
    "height = 100\n",
    "Pmax = 0.1\n",
    "Vmax = 50\n",
    "\n",
    "sigma  = 10*10**(-110) * 1e-3\n",
    "d0 = 1\n",
    "g0 = 10*10**(-60)"
   ]
  },
  {
   "cell_type": "markdown",
   "id": "217655cf",
   "metadata": {},
   "source": [
    "## Algorithm"
   ]
  },
  {
   "cell_type": "markdown",
   "id": "e6c24833",
   "metadata": {},
   "source": [
    "* Block Coodinate Descent\n",
    "* Successive Convex Approximation"
   ]
  },
  {
   "cell_type": "markdown",
   "id": "5e673dab",
   "metadata": {},
   "source": [
    "简化, 混合整数规划 $ \\Rightarrow $ 连续变量规划"
   ]
  },
  {
   "cell_type": "markdown",
   "id": "f875f2d6",
   "metadata": {},
   "source": [
    "\\begin{align*}\n",
    "\\Rightarrow \\max_{\\eta, \\boldsymbol A, \\boldsymbol Q, \\boldsymbol P} \\quad& \\eta \\\\\n",
    "s.t. \\quad& q_{m,1} - q_{m,T} = 0  \\tag{线性等式}\\\\\n",
    "& 1 - \\boldsymbol 1_N^T \\boldsymbol a_{n,m,t} \\ge 0  \\quad \\forall m,t  \\tag{线性不等式}\\\\\n",
    "& 1 - \\boldsymbol 1_M^T \\boldsymbol a_{n,m,t} \\ge 0  \\quad \\forall n,t \\\\\n",
    "& \\boldsymbol A \\succeq 0 \\\\\n",
    "& \\boldsymbol P \\succeq 0 \\\\\n",
    "& \\boldsymbol P_\\max - \\boldsymbol P \\succeq 0 \\\\\n",
    "& \\frac{1}{T} \\sum_{t=1}^T \\sum_{m=1}^M a_{n,m,t} \\log_2(1+\\gamma_{n,m,t}) - \\eta \\ge 0 \\quad \\forall n   \\tag{非线性不等式}\\\\\n",
    "& s_{\\max}^2 - (q_{m,t+1} - q_{m,t})^T(q_{m,t+1} - q_{m,t}) \\ge 0 \\\\\n",
    "& (q_{m,t} - q_{j,t})^T(q_{m,t} - q_{j,t}) - d_{\\min}^2 \\ge 0 \n",
    "\\end{align*}"
   ]
  },
  {
   "cell_type": "markdown",
   "id": "89a73ecc",
   "metadata": {},
   "source": [
    "### Block Coodinate Descent"
   ]
  },
  {
   "cell_type": "markdown",
   "id": "f1c86e78",
   "metadata": {},
   "source": [
    "\\begin{align*}\n",
    "\\Rightarrow \\max_{\\eta, \\boldsymbol A} \\quad& \\eta  \\tag{standard LP}\\\\\n",
    "s.t. \\quad& 1 - \\boldsymbol 1_N^T \\boldsymbol a_{n,m,t} \\ge 0  \\quad \\forall m,t  \\tag{线性不等式}\\\\\n",
    "& 1 - \\boldsymbol 1_M^T \\boldsymbol a_{n,m,t} \\ge 0  \\quad \\forall n,t \\\\\n",
    "& \\boldsymbol A \\succeq 0  \\\\\n",
    "& \\frac{1}{T} \\sum_{t=1}^T \\sum_{m=1}^M a_{n,m,t} \\log_2(1+\\gamma_{n,m,t}) - \\eta \\ge 0 \\quad \\forall n\n",
    "\\end{align*}\n",
    "\n",
    "---\n",
    "\n",
    "\\begin{align*}\n",
    "\\Rightarrow \\max_{\\eta, \\boldsymbol Q} \\quad& \\eta \\\\\n",
    "s.t. \\quad& q_{m,1} - q_{m,T} = 0  \\tag{线性等式}\\\\\n",
    "& \\frac{1}{T} \\sum_{t=1}^T \\sum_{m=1}^M a_{n,m,t} \\log_2(1+\\gamma_{n,m,t}) - \\eta \\ge 0 \\quad \\forall n   \\tag{非线性不等式}\\\\\n",
    "& s_{\\max}^2 - (q_{m,t+1} - q_{m,t})^T(q_{m,t+1} - q_{m,t}) \\ge 0 \\\\\n",
    "& (q_{m,t} - q_{j,t})^T(q_{m,t} - q_{j,t}) - d_{\\min}^2 \\ge 0 \n",
    "\\end{align*}\n",
    "\n",
    "---\n",
    "\n",
    "\\begin{align*}\n",
    "\\Rightarrow \\max_{\\eta, \\boldsymbol P} \\quad& \\eta\\\\\n",
    "s.t. \\quad& \\boldsymbol P \\succeq 0  \\tag{线性不等式}\\\\\n",
    "& \\boldsymbol P_\\max - \\boldsymbol P \\succeq 0 \\\\\n",
    "& \\frac{1}{T} \\sum_{t=1}^T \\sum_{m=1}^M a_{n,m,t} \\log_2(1+\\gamma_{n,m,t}) - \\eta \\ge 0 \\quad \\forall n   \\tag{非线性不等式}\\\\\n",
    "\\end{align*}"
   ]
  },
  {
   "cell_type": "code",
   "execution_count": null,
   "id": "3f715764",
   "metadata": {},
   "outputs": [],
   "source": []
  },
  {
   "cell_type": "markdown",
   "id": "53016686",
   "metadata": {},
   "source": [
    "### Successive Convex Approximation"
   ]
  },
  {
   "cell_type": "code",
   "execution_count": null,
   "id": "c5db7a84",
   "metadata": {},
   "outputs": [],
   "source": []
  }
 ],
 "metadata": {
  "kernelspec": {
   "display_name": "Python 3 (ipykernel)",
   "language": "python",
   "name": "python3"
  },
  "language_info": {
   "codemirror_mode": {
    "name": "ipython",
    "version": 3
   },
   "file_extension": ".py",
   "mimetype": "text/x-python",
   "name": "python",
   "nbconvert_exporter": "python",
   "pygments_lexer": "ipython3",
   "version": "3.9.7"
  }
 },
 "nbformat": 4,
 "nbformat_minor": 5
}
